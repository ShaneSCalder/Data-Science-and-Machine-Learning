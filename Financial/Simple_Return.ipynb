{
 "cells": [
  {
   "cell_type": "code",
   "execution_count": 2,
   "metadata": {},
   "outputs": [],
   "source": [
    "# Calculating Security's rate of simple return\n",
    "import numpy as np\n",
    "from pandas_datareader import data as wb\n",
    "import matplotlib.pyplot as plt\n",
    "import pandas_datareader.data as wb\n",
    "import yfinance as yf"
   ]
  },
  {
   "cell_type": "code",
   "execution_count": 3,
   "metadata": {},
   "outputs": [],
   "source": [
    "#import the data\n",
    "dataset = wb.get_data_yahoo('GOOG', start='2019-01-01', end='2019-05-31')"
   ]
  },
  {
   "cell_type": "code",
   "execution_count": 4,
   "metadata": {},
   "outputs": [
    {
     "data": {
      "text/html": [
       "<div>\n",
       "<style scoped>\n",
       "    .dataframe tbody tr th:only-of-type {\n",
       "        vertical-align: middle;\n",
       "    }\n",
       "\n",
       "    .dataframe tbody tr th {\n",
       "        vertical-align: top;\n",
       "    }\n",
       "\n",
       "    .dataframe thead th {\n",
       "        text-align: right;\n",
       "    }\n",
       "</style>\n",
       "<table border=\"1\" class=\"dataframe\">\n",
       "  <thead>\n",
       "    <tr style=\"text-align: right;\">\n",
       "      <th></th>\n",
       "      <th>High</th>\n",
       "      <th>Low</th>\n",
       "      <th>Open</th>\n",
       "      <th>Close</th>\n",
       "      <th>Volume</th>\n",
       "      <th>Adj Close</th>\n",
       "    </tr>\n",
       "    <tr>\n",
       "      <th>Date</th>\n",
       "      <th></th>\n",
       "      <th></th>\n",
       "      <th></th>\n",
       "      <th></th>\n",
       "      <th></th>\n",
       "      <th></th>\n",
       "    </tr>\n",
       "  </thead>\n",
       "  <tbody>\n",
       "    <tr>\n",
       "      <th>2019-01-02</th>\n",
       "      <td>1052.319946</td>\n",
       "      <td>1015.710022</td>\n",
       "      <td>1016.570007</td>\n",
       "      <td>1045.849976</td>\n",
       "      <td>1532600</td>\n",
       "      <td>1045.849976</td>\n",
       "    </tr>\n",
       "    <tr>\n",
       "      <th>2019-01-03</th>\n",
       "      <td>1056.979980</td>\n",
       "      <td>1014.070007</td>\n",
       "      <td>1041.000000</td>\n",
       "      <td>1016.059998</td>\n",
       "      <td>1830600</td>\n",
       "      <td>1016.059998</td>\n",
       "    </tr>\n",
       "    <tr>\n",
       "      <th>2019-01-04</th>\n",
       "      <td>1070.839966</td>\n",
       "      <td>1027.417969</td>\n",
       "      <td>1032.589966</td>\n",
       "      <td>1070.709961</td>\n",
       "      <td>2093900</td>\n",
       "      <td>1070.709961</td>\n",
       "    </tr>\n",
       "    <tr>\n",
       "      <th>2019-01-07</th>\n",
       "      <td>1074.000000</td>\n",
       "      <td>1054.760010</td>\n",
       "      <td>1071.500000</td>\n",
       "      <td>1068.390015</td>\n",
       "      <td>1981900</td>\n",
       "      <td>1068.390015</td>\n",
       "    </tr>\n",
       "    <tr>\n",
       "      <th>2019-01-08</th>\n",
       "      <td>1084.560059</td>\n",
       "      <td>1060.530029</td>\n",
       "      <td>1076.109985</td>\n",
       "      <td>1076.280029</td>\n",
       "      <td>1764900</td>\n",
       "      <td>1076.280029</td>\n",
       "    </tr>\n",
       "  </tbody>\n",
       "</table>\n",
       "</div>"
      ],
      "text/plain": [
       "                   High          Low         Open        Close   Volume  \\\n",
       "Date                                                                      \n",
       "2019-01-02  1052.319946  1015.710022  1016.570007  1045.849976  1532600   \n",
       "2019-01-03  1056.979980  1014.070007  1041.000000  1016.059998  1830600   \n",
       "2019-01-04  1070.839966  1027.417969  1032.589966  1070.709961  2093900   \n",
       "2019-01-07  1074.000000  1054.760010  1071.500000  1068.390015  1981900   \n",
       "2019-01-08  1084.560059  1060.530029  1076.109985  1076.280029  1764900   \n",
       "\n",
       "              Adj Close  \n",
       "Date                     \n",
       "2019-01-02  1045.849976  \n",
       "2019-01-03  1016.059998  \n",
       "2019-01-04  1070.709961  \n",
       "2019-01-07  1068.390015  \n",
       "2019-01-08  1076.280029  "
      ]
     },
     "execution_count": 4,
     "metadata": {},
     "output_type": "execute_result"
    }
   ],
   "source": [
    "dataset.head()"
   ]
  },
  {
   "cell_type": "code",
   "execution_count": 5,
   "metadata": {},
   "outputs": [
    {
     "data": {
      "text/html": [
       "<div>\n",
       "<style scoped>\n",
       "    .dataframe tbody tr th:only-of-type {\n",
       "        vertical-align: middle;\n",
       "    }\n",
       "\n",
       "    .dataframe tbody tr th {\n",
       "        vertical-align: top;\n",
       "    }\n",
       "\n",
       "    .dataframe thead th {\n",
       "        text-align: right;\n",
       "    }\n",
       "</style>\n",
       "<table border=\"1\" class=\"dataframe\">\n",
       "  <thead>\n",
       "    <tr style=\"text-align: right;\">\n",
       "      <th></th>\n",
       "      <th>High</th>\n",
       "      <th>Low</th>\n",
       "      <th>Open</th>\n",
       "      <th>Close</th>\n",
       "      <th>Volume</th>\n",
       "      <th>Adj Close</th>\n",
       "    </tr>\n",
       "    <tr>\n",
       "      <th>Date</th>\n",
       "      <th></th>\n",
       "      <th></th>\n",
       "      <th></th>\n",
       "      <th></th>\n",
       "      <th></th>\n",
       "      <th></th>\n",
       "    </tr>\n",
       "  </thead>\n",
       "  <tbody>\n",
       "    <tr>\n",
       "      <th>2019-05-24</th>\n",
       "      <td>1149.765015</td>\n",
       "      <td>1131.660034</td>\n",
       "      <td>1147.359985</td>\n",
       "      <td>1133.469971</td>\n",
       "      <td>1112000</td>\n",
       "      <td>1133.469971</td>\n",
       "    </tr>\n",
       "    <tr>\n",
       "      <th>2019-05-28</th>\n",
       "      <td>1151.587036</td>\n",
       "      <td>1133.119995</td>\n",
       "      <td>1134.000000</td>\n",
       "      <td>1134.150024</td>\n",
       "      <td>1365000</td>\n",
       "      <td>1134.150024</td>\n",
       "    </tr>\n",
       "    <tr>\n",
       "      <th>2019-05-29</th>\n",
       "      <td>1129.099976</td>\n",
       "      <td>1108.219971</td>\n",
       "      <td>1127.520020</td>\n",
       "      <td>1116.459961</td>\n",
       "      <td>1538200</td>\n",
       "      <td>1116.459961</td>\n",
       "    </tr>\n",
       "    <tr>\n",
       "      <th>2019-05-30</th>\n",
       "      <td>1123.130005</td>\n",
       "      <td>1112.119995</td>\n",
       "      <td>1115.540039</td>\n",
       "      <td>1117.949951</td>\n",
       "      <td>951900</td>\n",
       "      <td>1117.949951</td>\n",
       "    </tr>\n",
       "    <tr>\n",
       "      <th>2019-05-31</th>\n",
       "      <td>1109.599976</td>\n",
       "      <td>1100.180054</td>\n",
       "      <td>1101.290039</td>\n",
       "      <td>1103.630005</td>\n",
       "      <td>1507800</td>\n",
       "      <td>1103.630005</td>\n",
       "    </tr>\n",
       "  </tbody>\n",
       "</table>\n",
       "</div>"
      ],
      "text/plain": [
       "                   High          Low         Open        Close   Volume  \\\n",
       "Date                                                                      \n",
       "2019-05-24  1149.765015  1131.660034  1147.359985  1133.469971  1112000   \n",
       "2019-05-28  1151.587036  1133.119995  1134.000000  1134.150024  1365000   \n",
       "2019-05-29  1129.099976  1108.219971  1127.520020  1116.459961  1538200   \n",
       "2019-05-30  1123.130005  1112.119995  1115.540039  1117.949951   951900   \n",
       "2019-05-31  1109.599976  1100.180054  1101.290039  1103.630005  1507800   \n",
       "\n",
       "              Adj Close  \n",
       "Date                     \n",
       "2019-05-24  1133.469971  \n",
       "2019-05-28  1134.150024  \n",
       "2019-05-29  1116.459961  \n",
       "2019-05-30  1117.949951  \n",
       "2019-05-31  1103.630005  "
      ]
     },
     "execution_count": 5,
     "metadata": {},
     "output_type": "execute_result"
    }
   ],
   "source": [
    "dataset.tail()"
   ]
  },
  {
   "cell_type": "code",
   "execution_count": 8,
   "metadata": {},
   "outputs": [
    {
     "name": "stdout",
     "output_type": "stream",
     "text": [
      "Date\n",
      "2019-01-02         NaN\n",
      "2019-01-03   -0.028484\n",
      "2019-01-04    0.053786\n",
      "2019-01-07   -0.002167\n",
      "2019-01-08    0.007385\n",
      "2019-01-09   -0.001505\n",
      "2019-01-10   -0.004029\n",
      "2019-01-11   -0.012277\n",
      "2019-01-14   -0.011824\n",
      "2019-01-15    0.031071\n",
      "2019-01-16    0.003546\n",
      "2019-01-17    0.008261\n",
      "2019-01-18    0.007670\n",
      "2019-01-22   -0.025258\n",
      "2019-01-23    0.004717\n",
      "2019-01-24   -0.001553\n",
      "2019-01-25    0.015914\n",
      "2019-01-28   -0.019166\n",
      "2019-01-29   -0.008840\n",
      "2019-01-30    0.026815\n",
      "2019-01-31    0.025077\n",
      "2019-02-01   -0.005034\n",
      "2019-02-04    0.019851\n",
      "2019-02-05    0.011644\n",
      "2019-02-06   -0.026841\n",
      "2019-02-07   -0.014813\n",
      "2019-02-08   -0.003322\n",
      "2019-02-11   -0.000046\n",
      "2019-02-12    0.024073\n",
      "2019-02-13   -0.001079\n",
      "                ...   \n",
      "2019-04-18    0.000024\n",
      "2019-04-22    0.010086\n",
      "2019-04-23    0.012580\n",
      "2019-04-24   -0.006761\n",
      "2019-04-25    0.005931\n",
      "2019-04-26    0.006910\n",
      "2019-04-29    0.012105\n",
      "2019-04-30   -0.076966\n",
      "2019-05-01   -0.017165\n",
      "2019-05-02   -0.004683\n",
      "2019-05-03    0.019602\n",
      "2019-05-06    0.003366\n",
      "2019-05-07   -0.012855\n",
      "2019-05-08   -0.006669\n",
      "2019-05-09   -0.003335\n",
      "2019-05-10    0.001626\n",
      "2019-05-13   -0.027691\n",
      "2019-05-14   -0.010238\n",
      "2019-05-15    0.039065\n",
      "2019-05-16    0.012687\n",
      "2019-05-17   -0.014148\n",
      "2019-05-20   -0.020176\n",
      "2019-05-21    0.009466\n",
      "2019-05-22    0.001557\n",
      "2019-05-23   -0.009249\n",
      "2019-05-24   -0.006399\n",
      "2019-05-28    0.000600\n",
      "2019-05-29   -0.015598\n",
      "2019-05-30    0.001335\n",
      "2019-05-31   -0.012809\n",
      "Name: simple_return, Length: 104, dtype: float64\n"
     ]
    }
   ],
   "source": [
    "dataset['simple_return'] = (dataset['Adj Close'] / dataset['Adj Close'].shift(1)) - 1\n",
    "print(dataset['simple_return'])"
   ]
  },
  {
   "cell_type": "code",
   "execution_count": 10,
   "metadata": {},
   "outputs": [
    {
     "data": {
      "text/plain": [
       "0.0006471866478825849"
      ]
     },
     "execution_count": 10,
     "metadata": {},
     "output_type": "execute_result"
    }
   ],
   "source": [
    "#Avergae daily simple return\n",
    "dataset['simple_return'].mean()"
   ]
  },
  {
   "cell_type": "code",
   "execution_count": 11,
   "metadata": {},
   "outputs": [
    {
     "data": {
      "text/plain": [
       "0.015829657427337773"
      ]
     },
     "execution_count": 11,
     "metadata": {},
     "output_type": "execute_result"
    }
   ],
   "source": [
    "dataset['simple_return'].std()"
   ]
  },
  {
   "cell_type": "code",
   "execution_count": null,
   "metadata": {},
   "outputs": [],
   "source": []
  }
 ],
 "metadata": {
  "kernelspec": {
   "display_name": "Python 3",
   "language": "python",
   "name": "python3"
  },
  "language_info": {
   "codemirror_mode": {
    "name": "ipython",
    "version": 3
   },
   "file_extension": ".py",
   "mimetype": "text/x-python",
   "name": "python",
   "nbconvert_exporter": "python",
   "pygments_lexer": "ipython3",
   "version": "3.7.3"
  }
 },
 "nbformat": 4,
 "nbformat_minor": 2
}
